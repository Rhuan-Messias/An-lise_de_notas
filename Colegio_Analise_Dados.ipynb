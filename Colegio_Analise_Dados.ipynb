{
  "nbformat": 4,
  "nbformat_minor": 0,
  "metadata": {
    "colab": {
      "provenance": [],
      "collapsed_sections": [],
      "mount_file_id": "128wQAAt0IvRDbvBxNyYardP8Rs6oT2u1",
      "authorship_tag": "ABX9TyNENWhQ9iMcDNIivVKmCjpr",
      "include_colab_link": true
    },
    "kernelspec": {
      "name": "python3",
      "display_name": "Python 3"
    },
    "language_info": {
      "name": "python"
    }
  },
  "cells": [
    {
      "cell_type": "markdown",
      "metadata": {
        "id": "view-in-github",
        "colab_type": "text"
      },
      "source": [
        "<a href=\"https://colab.research.google.com/github/Rhuan-Messias/An-lise_de_notas/blob/main/Colegio_Analise_Dados.ipynb\" target=\"_parent\"><img src=\"https://colab.research.google.com/assets/colab-badge.svg\" alt=\"Open In Colab\"/></a>"
      ]
    },
    {
      "cell_type": "markdown",
      "source": [
        "#Importar dados"
      ],
      "metadata": {
        "id": "8yCMNSlGMnS_"
      }
    },
    {
      "cell_type": "code",
      "execution_count": null,
      "metadata": {
        "id": "IT3bxrz6McYB"
      },
      "outputs": [],
      "source": [
        "# importar dados da tabela com nota dos alunos \n",
        "import pandas as pd\n",
        "caminho = '/content/drive/MyDrive/Excel/Colegio_notas_pasta.xlsx'\n",
        "notas_portugues = pd.read_excel(caminho,sheet_name=0)\n",
        "notas_matematica = pd.read_excel(caminho,sheet_name=1)\n",
        "notas_biologia = pd.read_excel(caminho,sheet_name=2)\n",
        "notas_historia = pd.read_excel(caminho,sheet_name=3)\n",
        "notas_filosofia = pd.read_excel(caminho,sheet_name=4)\n",
        "notas_geografia = pd.read_excel(caminho,sheet_name=5)\n",
        "notas_edu_fisica = pd.read_excel(caminho,sheet_name=6)\n",
        "notas_fisica = pd.read_excel(caminho,sheet_name=7)\n",
        "notas_quimica = pd.read_excel(caminho,sheet_name=8)"
      ]
    },
    {
      "cell_type": "code",
      "source": [
        "#Colocar o nome das materias nas tabelas \n",
        "materias = ['portugues','matematica','biologia','historia','filosofia',\n",
        "            'geografia','edu_fisica','fisica','quimica']\n",
        "lista_tabela_notas = [notas_portugues,notas_matematica,notas_biologia,\n",
        "                      notas_historia,notas_filosofia,notas_geografia,\n",
        "                      notas_edu_fisica,notas_fisica,notas_quimica]\n",
        "tabela_notas=[]\n",
        "for i,tabela in enumerate(lista_tabela_notas):\n",
        "    tabela = tabela.rename(columns={'Alunos':materias[i]})\n",
        "    tabela_notas.append(tabela)\n",
        "\n",
        "for materia in tabela_notas:\n",
        "    display(materia)"
      ],
      "metadata": {
        "id": "HtdwwHE6tS4K"
      },
      "execution_count": null,
      "outputs": []
    },
    {
      "cell_type": "code",
      "source": [],
      "metadata": {
        "id": "xF-0hYSTtsGR"
      },
      "execution_count": null,
      "outputs": []
    }
  ]
}